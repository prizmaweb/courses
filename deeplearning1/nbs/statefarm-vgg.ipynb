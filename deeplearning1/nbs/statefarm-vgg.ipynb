{
 "cells": [
  {
   "cell_type": "markdown",
   "metadata": {},
   "source": [
    "#### This code attempts to reuse the VGG 16 convolutional layers to read the driver images. A small dense layer is then trained to classifies these VGG output features . Note that the dense layer is smaller than what was used by Jeremy, thus the accuracy stays around 74-76%."
   ]
  },
  {
   "cell_type": "code",
   "execution_count": 1,
   "metadata": {
    "collapsed": false,
    "scrolled": true
   },
   "outputs": [
    {
     "name": "stderr",
     "output_type": "stream",
     "text": [
      "Using gpu device 0: Tesla K80 (CNMeM is disabled, cuDNN 5103)\n",
      "/home/ubuntu/anaconda2/lib/python2.7/site-packages/theano/sandbox/cuda/__init__.py:600: UserWarning: Your cuDNN version is more recent than the one Theano officially supports. If you see any problems, try updating Theano or downgrading cuDNN to version 5.\n",
      "  warnings.warn(warn)\n",
      "Using Theano backend.\n"
     ]
    }
   ],
   "source": [
    "from __future__ import print_function, division\n",
    "import utils; reload(utils)\n",
    "from utils import *"
   ]
  },
  {
   "cell_type": "code",
   "execution_count": 2,
   "metadata": {
    "collapsed": true
   },
   "outputs": [],
   "source": [
    "%matplotlib inline\n",
    "path=\"/home/ubuntu/nbs/data/state/\"\n",
    "#sample_path=\"/home/ubuntu/nbs/data/state/sample/\""
   ]
  },
  {
   "cell_type": "code",
   "execution_count": 3,
   "metadata": {
    "collapsed": true
   },
   "outputs": [],
   "source": [
    "from keras.preprocessing import image"
   ]
  },
  {
   "cell_type": "code",
   "execution_count": 4,
   "metadata": {
    "collapsed": true
   },
   "outputs": [],
   "source": [
    "batch_size=64"
   ]
  },
  {
   "cell_type": "markdown",
   "metadata": {},
   "source": [
    "#### get a Directory Iterator  for the images in the training folder"
   ]
  },
  {
   "cell_type": "code",
   "execution_count": 5,
   "metadata": {
    "collapsed": false
   },
   "outputs": [
    {
     "name": "stdout",
     "output_type": "stream",
     "text": [
      "Found 18009 images belonging to 10 classes.\n"
     ]
    }
   ],
   "source": [
    "datagen=image.ImageDataGenerator()\n",
    "\n",
    "# flow from directory, with class names being categorical, image target size being  224 x 224, shuffle off\n",
    "batches=datagen.flow_from_directory(path+'train',target_size=(224,224),class_mode='categorical',\n",
    "shuffle=False,batch_size=batch_size)"
   ]
  },
  {
   "cell_type": "markdown",
   "metadata": {},
   "source": [
    "#### Get a directory iterator for images in the validation folder"
   ]
  },
  {
   "cell_type": "code",
   "execution_count": 6,
   "metadata": {
    "collapsed": false
   },
   "outputs": [
    {
     "name": "stdout",
     "output_type": "stream",
     "text": [
      "Found 4415 images belonging to 10 classes.\n"
     ]
    }
   ],
   "source": [
    "#get the validation set\n",
    "val_batches=datagen.flow_from_directory(path+'valid',target_size=(224,224),class_mode='categorical',\n",
    "shuffle=False,batch_size=batch_size)"
   ]
  },
  {
   "cell_type": "code",
   "execution_count": 7,
   "metadata": {
    "collapsed": false
   },
   "outputs": [
    {
     "name": "stdout",
     "output_type": "stream",
     "text": [
      "Found 18009 images belonging to 10 classes.\n",
      "Found 4415 images belonging to 10 classes.\n",
      "Found 0 images belonging to 0 classes.\n"
     ]
    }
   ],
   "source": [
    "# train labels\n",
    "(val_classes, trn_classes, val_labels, trn_labels, \n",
    "    val_filenames, filenames, test_filenames) = get_classes(path)"
   ]
  },
  {
   "cell_type": "code",
   "execution_count": 8,
   "metadata": {
    "collapsed": false
   },
   "outputs": [],
   "source": [
    "from vgg16 import Vgg16\n",
    "#get the vgg model\n",
    "vgg=Vgg16()\n",
    "model=vgg.model"
   ]
  },
  {
   "cell_type": "code",
   "execution_count": 9,
   "metadata": {
    "collapsed": false
   },
   "outputs": [],
   "source": [
    "# find the  conv layers of vgg\n",
    "last_conv_layer_id=[index for index,layer in enumerate(model.layers) if type(layer) is  Convolution2D][-1]\n",
    "vgg_conv_layers=model.layers[:last_conv_layer_id+1]"
   ]
  },
  {
   "cell_type": "code",
   "execution_count": 10,
   "metadata": {
    "collapsed": true
   },
   "outputs": [],
   "source": [
    "# create a model from the vgg conv layers\n",
    "conv_model=Sequential(vgg_conv_layers)"
   ]
  },
  {
   "cell_type": "code",
   "execution_count": 11,
   "metadata": {
    "collapsed": false
   },
   "outputs": [
    {
     "name": "stdout",
     "output_type": "stream",
     "text": [
      "____________________________________________________________________________________________________\n",
      "Layer (type)                     Output Shape          Param #     Connected to                     \n",
      "====================================================================================================\n",
      "lambda_1 (Lambda)                (None, 3, 224, 224)   0           lambda_input_1[0][0]             \n",
      "____________________________________________________________________________________________________\n",
      "zeropadding2d_1 (ZeroPadding2D)  (None, 3, 226, 226)   0           lambda_1[0][0]                   \n",
      "                                                                   lambda_1[0][0]                   \n",
      "____________________________________________________________________________________________________\n",
      "convolution2d_1 (Convolution2D)  (None, 64, 224, 224)  1792        zeropadding2d_1[0][0]            \n",
      "                                                                   zeropadding2d_1[1][0]            \n",
      "____________________________________________________________________________________________________\n",
      "zeropadding2d_2 (ZeroPadding2D)  (None, 64, 226, 226)  0           convolution2d_1[0][0]            \n",
      "                                                                   convolution2d_1[1][0]            \n",
      "____________________________________________________________________________________________________\n",
      "convolution2d_2 (Convolution2D)  (None, 64, 224, 224)  36928       zeropadding2d_2[0][0]            \n",
      "                                                                   zeropadding2d_2[1][0]            \n",
      "____________________________________________________________________________________________________\n",
      "maxpooling2d_1 (MaxPooling2D)    (None, 64, 112, 112)  0           convolution2d_2[0][0]            \n",
      "                                                                   convolution2d_2[1][0]            \n",
      "____________________________________________________________________________________________________\n",
      "zeropadding2d_3 (ZeroPadding2D)  (None, 64, 114, 114)  0           maxpooling2d_1[0][0]             \n",
      "                                                                   maxpooling2d_1[1][0]             \n",
      "____________________________________________________________________________________________________\n",
      "convolution2d_3 (Convolution2D)  (None, 128, 112, 112) 73856       zeropadding2d_3[0][0]            \n",
      "                                                                   zeropadding2d_3[1][0]            \n",
      "____________________________________________________________________________________________________\n",
      "zeropadding2d_4 (ZeroPadding2D)  (None, 128, 114, 114) 0           convolution2d_3[0][0]            \n",
      "                                                                   convolution2d_3[1][0]            \n",
      "____________________________________________________________________________________________________\n",
      "convolution2d_4 (Convolution2D)  (None, 128, 112, 112) 147584      zeropadding2d_4[0][0]            \n",
      "                                                                   zeropadding2d_4[1][0]            \n",
      "____________________________________________________________________________________________________\n",
      "maxpooling2d_2 (MaxPooling2D)    (None, 128, 56, 56)   0           convolution2d_4[0][0]            \n",
      "                                                                   convolution2d_4[1][0]            \n",
      "____________________________________________________________________________________________________\n",
      "zeropadding2d_5 (ZeroPadding2D)  (None, 128, 58, 58)   0           maxpooling2d_2[0][0]             \n",
      "                                                                   maxpooling2d_2[1][0]             \n",
      "____________________________________________________________________________________________________\n",
      "convolution2d_5 (Convolution2D)  (None, 256, 56, 56)   295168      zeropadding2d_5[0][0]            \n",
      "                                                                   zeropadding2d_5[1][0]            \n",
      "____________________________________________________________________________________________________\n",
      "zeropadding2d_6 (ZeroPadding2D)  (None, 256, 58, 58)   0           convolution2d_5[0][0]            \n",
      "                                                                   convolution2d_5[1][0]            \n",
      "____________________________________________________________________________________________________\n",
      "convolution2d_6 (Convolution2D)  (None, 256, 56, 56)   590080      zeropadding2d_6[0][0]            \n",
      "                                                                   zeropadding2d_6[1][0]            \n",
      "____________________________________________________________________________________________________\n",
      "zeropadding2d_7 (ZeroPadding2D)  (None, 256, 58, 58)   0           convolution2d_6[0][0]            \n",
      "                                                                   convolution2d_6[1][0]            \n",
      "____________________________________________________________________________________________________\n",
      "convolution2d_7 (Convolution2D)  (None, 256, 56, 56)   590080      zeropadding2d_7[0][0]            \n",
      "                                                                   zeropadding2d_7[1][0]            \n",
      "____________________________________________________________________________________________________\n",
      "maxpooling2d_3 (MaxPooling2D)    (None, 256, 28, 28)   0           convolution2d_7[0][0]            \n",
      "                                                                   convolution2d_7[1][0]            \n",
      "____________________________________________________________________________________________________\n",
      "zeropadding2d_8 (ZeroPadding2D)  (None, 256, 30, 30)   0           maxpooling2d_3[0][0]             \n",
      "                                                                   maxpooling2d_3[1][0]             \n",
      "____________________________________________________________________________________________________\n",
      "convolution2d_8 (Convolution2D)  (None, 512, 28, 28)   1180160     zeropadding2d_8[0][0]            \n",
      "                                                                   zeropadding2d_8[1][0]            \n",
      "____________________________________________________________________________________________________\n",
      "zeropadding2d_9 (ZeroPadding2D)  (None, 512, 30, 30)   0           convolution2d_8[0][0]            \n",
      "                                                                   convolution2d_8[1][0]            \n",
      "____________________________________________________________________________________________________\n",
      "convolution2d_9 (Convolution2D)  (None, 512, 28, 28)   2359808     zeropadding2d_9[0][0]            \n",
      "                                                                   zeropadding2d_9[1][0]            \n",
      "____________________________________________________________________________________________________\n",
      "zeropadding2d_10 (ZeroPadding2D) (None, 512, 30, 30)   0           convolution2d_9[0][0]            \n",
      "                                                                   convolution2d_9[1][0]            \n",
      "____________________________________________________________________________________________________\n",
      "convolution2d_10 (Convolution2D) (None, 512, 28, 28)   2359808     zeropadding2d_10[0][0]           \n",
      "                                                                   zeropadding2d_10[1][0]           \n",
      "____________________________________________________________________________________________________\n",
      "maxpooling2d_4 (MaxPooling2D)    (None, 512, 14, 14)   0           convolution2d_10[0][0]           \n",
      "                                                                   convolution2d_10[1][0]           \n",
      "____________________________________________________________________________________________________\n",
      "zeropadding2d_11 (ZeroPadding2D) (None, 512, 16, 16)   0           maxpooling2d_4[0][0]             \n",
      "                                                                   maxpooling2d_4[1][0]             \n",
      "____________________________________________________________________________________________________\n",
      "convolution2d_11 (Convolution2D) (None, 512, 14, 14)   2359808     zeropadding2d_11[0][0]           \n",
      "                                                                   zeropadding2d_11[1][0]           \n",
      "____________________________________________________________________________________________________\n",
      "zeropadding2d_12 (ZeroPadding2D) (None, 512, 16, 16)   0           convolution2d_11[0][0]           \n",
      "                                                                   convolution2d_11[1][0]           \n",
      "____________________________________________________________________________________________________\n",
      "convolution2d_12 (Convolution2D) (None, 512, 14, 14)   2359808     zeropadding2d_12[0][0]           \n",
      "                                                                   zeropadding2d_12[1][0]           \n",
      "____________________________________________________________________________________________________\n",
      "zeropadding2d_13 (ZeroPadding2D) (None, 512, 16, 16)   0           convolution2d_12[0][0]           \n",
      "                                                                   convolution2d_12[1][0]           \n",
      "____________________________________________________________________________________________________\n",
      "convolution2d_13 (Convolution2D) (None, 512, 14, 14)   2359808     zeropadding2d_13[0][0]           \n",
      "                                                                   zeropadding2d_13[1][0]           \n",
      "====================================================================================================\n",
      "Total params: 14714688\n",
      "____________________________________________________________________________________________________\n"
     ]
    }
   ],
   "source": [
    "conv_model.summary()"
   ]
  },
  {
   "cell_type": "code",
   "execution_count": 12,
   "metadata": {
    "collapsed": false
   },
   "outputs": [],
   "source": [
    "# get numpy array of conv feature predictions for training data\n",
    "conv_vgg_features=conv_model.predict_generator(batches,batches.nb_sample)"
   ]
  },
  {
   "cell_type": "code",
   "execution_count": 13,
   "metadata": {
    "collapsed": false
   },
   "outputs": [],
   "source": [
    "# get numpy array of conv feature predictions for val  data  \n",
    "conv_val_vgg_features=conv_model.predict_generator(val_batches,val_batches.nb_sample)"
   ]
  },
  {
   "cell_type": "code",
   "execution_count": 15,
   "metadata": {
    "collapsed": false
   },
   "outputs": [],
   "source": [
    "#save to array\n",
    "save_array(path+'results/conv_val_vgg_features.dat', conv_val_vgg_features)\n",
    "save_array(path+'results/conv_vgg_feat.dat', conv_vgg_features)"
   ]
  },
  {
   "cell_type": "code",
   "execution_count": 16,
   "metadata": {
    "collapsed": false
   },
   "outputs": [
    {
     "data": {
      "text/plain": [
       "(4415, 512, 14, 14)"
      ]
     },
     "execution_count": 16,
     "metadata": {},
     "output_type": "execute_result"
    }
   ],
   "source": [
    "# load array\n",
    "conv_vgg_features = load_array(path+'results/conv_vgg_feat.dat')\n",
    "conv_val_vgg_features = load_array(path+'results/conv_val_vgg_features.dat')\n",
    "conv_val_vgg_features.shape"
   ]
  },
  {
   "cell_type": "markdown",
   "metadata": {},
   "source": [
    "#### define function to return dense layers with batch norm and dropout"
   ]
  },
  {
   "cell_type": "code",
   "execution_count": 19,
   "metadata": {
    "collapsed": true
   },
   "outputs": [],
   "source": [
    "def get_bn_layers(p):\n",
    "    return [\n",
    "        MaxPooling2D(input_shape=vgg_conv_layers[-1].output_shape[1:]),\n",
    "        Flatten(),\n",
    "        Dropout(p/2),\n",
    "        Dense(128, activation='relu'),\n",
    "        BatchNormalization(),\n",
    "        Dropout(p),\n",
    "        Dense(10, activation='softmax')\n",
    "        ]"
   ]
  },
  {
   "cell_type": "code",
   "execution_count": 20,
   "metadata": {
    "collapsed": false
   },
   "outputs": [
    {
     "name": "stdout",
     "output_type": "stream",
     "text": [
      "Train on 18009 samples, validate on 4415 samples\n",
      "Epoch 1/1\n",
      "18009/18009 [==============================] - 7s - loss: 0.2633 - acc: 0.9300 - val_loss: 0.8522 - val_acc: 0.7273\n"
     ]
    },
    {
     "data": {
      "text/plain": [
       "<keras.callbacks.History at 0x7ff9982ce7d0>"
      ]
     },
     "execution_count": 20,
     "metadata": {},
     "output_type": "execute_result"
    }
   ],
   "source": [
    "bn_model=Sequential(get_bn_layers(.5))\n",
    "bn_model.compile(Adam(lr=.001),loss='categorical_crossentropy',metrics=['accuracy'])\n",
    "bn_model.fit(conv_vgg_features, trn_labels, batch_size=batch_size, nb_epoch=1, \n",
    "             validation_data=(conv_val_vgg_features, val_labels))"
   ]
  },
  {
   "cell_type": "code",
   "execution_count": 21,
   "metadata": {
    "collapsed": false
   },
   "outputs": [
    {
     "name": "stdout",
     "output_type": "stream",
     "text": [
      "Train on 18009 samples, validate on 4415 samples\n",
      "Epoch 1/4\n",
      "18009/18009 [==============================] - 7s - loss: 0.0211 - acc: 0.9976 - val_loss: 0.8259 - val_acc: 0.7586\n",
      "Epoch 2/4\n",
      "18009/18009 [==============================] - 7s - loss: 0.0109 - acc: 0.9984 - val_loss: 0.9818 - val_acc: 0.7280\n",
      "Epoch 3/4\n",
      "18009/18009 [==============================] - 7s - loss: 0.0065 - acc: 0.9993 - val_loss: 0.8985 - val_acc: 0.7465\n",
      "Epoch 4/4\n",
      "18009/18009 [==============================] - 7s - loss: 0.0047 - acc: 0.9994 - val_loss: 0.8517 - val_acc: 0.7640\n"
     ]
    },
    {
     "data": {
      "text/plain": [
       "<keras.callbacks.History at 0x7ff9982cead0>"
      ]
     },
     "execution_count": 21,
     "metadata": {},
     "output_type": "execute_result"
    }
   ],
   "source": [
    "bn_model.fit(conv_vgg_features, trn_labels, batch_size=batch_size, nb_epoch=4, \n",
    "             validation_data=(conv_val_vgg_features, val_labels))"
   ]
  },
  {
   "cell_type": "code",
   "execution_count": 24,
   "metadata": {
    "collapsed": false
   },
   "outputs": [
    {
     "name": "stdout",
     "output_type": "stream",
     "text": [
      "Train on 18009 samples, validate on 4415 samples\n",
      "Epoch 1/8\n",
      "18009/18009 [==============================] - 7s - loss: 0.0052 - acc: 0.9988 - val_loss: 0.9743 - val_acc: 0.7320\n",
      "Epoch 2/8\n",
      "18009/18009 [==============================] - 7s - loss: 0.0044 - acc: 0.9988 - val_loss: 1.0065 - val_acc: 0.7373\n",
      "Epoch 3/8\n",
      "18009/18009 [==============================] - 7s - loss: 0.0039 - acc: 0.9993 - val_loss: 1.7080 - val_acc: 0.6360\n",
      "Epoch 4/8\n",
      "18009/18009 [==============================] - 7s - loss: 0.0048 - acc: 0.9986 - val_loss: 1.0699 - val_acc: 0.7749\n",
      "Epoch 5/8\n",
      "18009/18009 [==============================] - 7s - loss: 0.0047 - acc: 0.9986 - val_loss: 1.1949 - val_acc: 0.7343\n",
      "Epoch 6/8\n",
      "18009/18009 [==============================] - 7s - loss: 0.0057 - acc: 0.9983 - val_loss: 1.2392 - val_acc: 0.7352\n",
      "Epoch 7/8\n",
      "18009/18009 [==============================] - 7s - loss: 0.0056 - acc: 0.9982 - val_loss: 1.1419 - val_acc: 0.7642\n",
      "Epoch 8/8\n",
      "18009/18009 [==============================] - 7s - loss: 0.0028 - acc: 0.9989 - val_loss: 0.9934 - val_acc: 0.7692\n"
     ]
    },
    {
     "data": {
      "text/plain": [
       "<keras.callbacks.History at 0x7ff9982ce8d0>"
      ]
     },
     "execution_count": 24,
     "metadata": {},
     "output_type": "execute_result"
    }
   ],
   "source": [
    "bn_model.optimizer.lr=0.00001\n",
    "bn_model.fit(conv_vgg_features, trn_labels, batch_size=batch_size, nb_epoch=8, \n",
    "             validation_data=(conv_val_vgg_features, val_labels))"
   ]
  },
  {
   "cell_type": "markdown",
   "metadata": {},
   "source": [
    "#### Since we are overfitting the training set rapidly, increasing the dropout"
   ]
  },
  {
   "cell_type": "code",
   "execution_count": 26,
   "metadata": {
    "collapsed": false
   },
   "outputs": [
    {
     "name": "stdout",
     "output_type": "stream",
     "text": [
      "Train on 18009 samples, validate on 4415 samples\n",
      "Epoch 1/6\n",
      "18009/18009 [==============================] - 7s - loss: 2.6826 - acc: 0.2587 - val_loss: 1.7271 - val_acc: 0.3900\n",
      "Epoch 2/6\n",
      "18009/18009 [==============================] - 7s - loss: 1.3250 - acc: 0.5712 - val_loss: 1.2886 - val_acc: 0.5604\n",
      "Epoch 3/6\n",
      "18009/18009 [==============================] - 7s - loss: 0.7935 - acc: 0.7386 - val_loss: 1.0837 - val_acc: 0.6507\n",
      "Epoch 4/6\n",
      "18009/18009 [==============================] - 7s - loss: 0.5437 - acc: 0.8268 - val_loss: 1.0052 - val_acc: 0.6838\n",
      "Epoch 5/6\n",
      "18009/18009 [==============================] - 7s - loss: 0.3895 - acc: 0.8803 - val_loss: 0.9201 - val_acc: 0.7096\n",
      "Epoch 6/6\n",
      "18009/18009 [==============================] - 7s - loss: 0.3075 - acc: 0.9100 - val_loss: 0.8848 - val_acc: 0.7264\n"
     ]
    },
    {
     "data": {
      "text/plain": [
       "<keras.callbacks.History at 0x7ff9224eee50>"
      ]
     },
     "execution_count": 26,
     "metadata": {},
     "output_type": "execute_result"
    }
   ],
   "source": [
    "bn_model=Sequential(get_bn_layers(.6))\n",
    "bn_model.compile(Adam(lr=.00001),loss='categorical_crossentropy',metrics=['accuracy'])\n",
    "bn_model.fit(conv_vgg_features, trn_labels, batch_size=batch_size, nb_epoch=6, \n",
    "             validation_data=(conv_val_vgg_features, val_labels))"
   ]
  },
  {
   "cell_type": "markdown",
   "metadata": {},
   "source": [
    "#### Increasing learning rate to go faster"
   ]
  },
  {
   "cell_type": "code",
   "execution_count": 27,
   "metadata": {
    "collapsed": false
   },
   "outputs": [
    {
     "name": "stdout",
     "output_type": "stream",
     "text": [
      "Train on 18009 samples, validate on 4415 samples\n",
      "Epoch 1/4\n",
      "18009/18009 [==============================] - 7s - loss: 0.2388 - acc: 0.9319 - val_loss: 0.8454 - val_acc: 0.7368\n",
      "Epoch 2/4\n",
      "18009/18009 [==============================] - 7s - loss: 0.2026 - acc: 0.9424 - val_loss: 0.8228 - val_acc: 0.7413\n",
      "Epoch 3/4\n",
      "18009/18009 [==============================] - 7s - loss: 0.1750 - acc: 0.9538 - val_loss: 0.8251 - val_acc: 0.7400\n",
      "Epoch 4/4\n",
      "18009/18009 [==============================] - 7s - loss: 0.1463 - acc: 0.9617 - val_loss: 0.8387 - val_acc: 0.7420\n"
     ]
    },
    {
     "data": {
      "text/plain": [
       "<keras.callbacks.History at 0x7ff9a8c66290>"
      ]
     },
     "execution_count": 27,
     "metadata": {},
     "output_type": "execute_result"
    }
   ],
   "source": [
    "bn_model.optimizer.lr=0.001\n",
    "bn_model.fit(conv_vgg_features, trn_labels, batch_size=batch_size, nb_epoch=4, \n",
    "             validation_data=(conv_val_vgg_features, val_labels))"
   ]
  },
  {
   "cell_type": "markdown",
   "metadata": {},
   "source": [
    "#### A classification accuracy of 74.2% was achieved"
   ]
  },
  {
   "cell_type": "code",
   "execution_count": null,
   "metadata": {
    "collapsed": true
   },
   "outputs": [],
   "source": []
  }
 ],
 "metadata": {
  "anaconda-cloud": {},
  "kernelspec": {
   "display_name": "Python [conda root]",
   "language": "python",
   "name": "conda-root-py"
  },
  "language_info": {
   "codemirror_mode": {
    "name": "ipython",
    "version": 2
   },
   "file_extension": ".py",
   "mimetype": "text/x-python",
   "name": "python",
   "nbconvert_exporter": "python",
   "pygments_lexer": "ipython2",
   "version": "2.7.12"
  }
 },
 "nbformat": 4,
 "nbformat_minor": 1
}
