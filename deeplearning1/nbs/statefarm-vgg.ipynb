{
 "cells": [
  {
   "cell_type": "markdown",
   "metadata": {},
   "source": [
    "#### This code attempts to reuse the VGG 16 convolutional layers to read the driver images. A small dense layer is then trained to classifies these VGG output features . Note that the dense layer is smaller than what was used by Jeremy, thus the accuracy stays around 74-76%."
   ]
  },
  {
   "cell_type": "code",
   "execution_count": 1,
   "metadata": {
    "collapsed": false,
    "scrolled": true
   },
   "outputs": [
    {
     "name": "stderr",
     "output_type": "stream",
     "text": [
      "Using gpu device 0: Tesla K80 (CNMeM is disabled, cuDNN 5103)\n",
      "/home/ubuntu/anaconda2/lib/python2.7/site-packages/theano/sandbox/cuda/__init__.py:600: UserWarning: Your cuDNN version is more recent than the one Theano officially supports. If you see any problems, try updating Theano or downgrading cuDNN to version 5.\n",
      "  warnings.warn(warn)\n",
      "Using Theano backend.\n"
     ]
    }
   ],
   "source": [
    "from __future__ import print_function, division\n",
    "import utils; reload(utils)\n",
    "from utils import *"
   ]
  },
  {
   "cell_type": "code",
   "execution_count": 2,
   "metadata": {
    "collapsed": true
   },
   "outputs": [],
   "source": [
    "%matplotlib inline\n",
    "path=\"/home/ubuntu/nbs/data/state/\"\n",
    "#sample_path=\"/home/ubuntu/nbs/data/state/sample/\""
   ]
  },
  {
   "cell_type": "code",
   "execution_count": 3,
   "metadata": {
    "collapsed": true
   },
   "outputs": [],
   "source": [
    "from IPython.display import FileLink"
   ]
  },
  {
   "cell_type": "code",
   "execution_count": 4,
   "metadata": {
    "collapsed": true
   },
   "outputs": [],
   "source": [
    "from keras.preprocessing import image"
   ]
  },
  {
   "cell_type": "code",
   "execution_count": 5,
   "metadata": {
    "collapsed": true
   },
   "outputs": [],
   "source": [
    "batch_size=64"
   ]
  },
  {
   "cell_type": "markdown",
   "metadata": {},
   "source": [
    "####  NOTE:  The validation data used here was created using the state farm  script run on a small sample. (state-farm-sample.ipynb)\n",
    "#### If you are attempting to use this code, please run that file first so that distinct driver images get copied over to the validation folder."
   ]
  },
  {
   "cell_type": "markdown",
   "metadata": {},
   "source": [
    "#### get a Directory Iterator  for the images in the training folder"
   ]
  },
  {
   "cell_type": "code",
   "execution_count": 6,
   "metadata": {
    "collapsed": false
   },
   "outputs": [
    {
     "name": "stdout",
     "output_type": "stream",
     "text": [
      "Found 18009 images belonging to 10 classes.\n"
     ]
    }
   ],
   "source": [
    "datagen=image.ImageDataGenerator()\n",
    "\n",
    "# flow from directory, with class names being categorical, image target size being  224 x 224, shuffle off\n",
    "batches=datagen.flow_from_directory(path+'train',target_size=(224,224),class_mode='categorical',\n",
    "shuffle=False,batch_size=batch_size)"
   ]
  },
  {
   "cell_type": "markdown",
   "metadata": {},
   "source": [
    "#### Get a directory iterator for images in the validation folder"
   ]
  },
  {
   "cell_type": "code",
   "execution_count": 7,
   "metadata": {
    "collapsed": false
   },
   "outputs": [
    {
     "name": "stdout",
     "output_type": "stream",
     "text": [
      "Found 4415 images belonging to 10 classes.\n"
     ]
    }
   ],
   "source": [
    "#get the validation set\n",
    "val_batches=datagen.flow_from_directory(path+'valid',target_size=(224,224),class_mode='categorical',\n",
    "shuffle=False,batch_size=batch_size)"
   ]
  },
  {
   "cell_type": "markdown",
   "metadata": {},
   "source": [
    "#### get the directory iterator for images in the Test fodler"
   ]
  },
  {
   "cell_type": "code",
   "execution_count": 8,
   "metadata": {
    "collapsed": false
   },
   "outputs": [
    {
     "name": "stdout",
     "output_type": "stream",
     "text": [
      "Found 79726 images belonging to 1 classes.\n"
     ]
    }
   ],
   "source": [
    "#get the test data\n",
    "test_batches=datagen.flow_from_directory(path+'test',target_size=(224,224),class_mode=None,\n",
    "shuffle=False,batch_size=batch_size)"
   ]
  },
  {
   "cell_type": "code",
   "execution_count": 9,
   "metadata": {
    "collapsed": false
   },
   "outputs": [
    {
     "name": "stdout",
     "output_type": "stream",
     "text": [
      "Found 18009 images belonging to 10 classes.\n",
      "Found 4415 images belonging to 10 classes.\n",
      "Found 79726 images belonging to 1 classes.\n"
     ]
    }
   ],
   "source": [
    "# train labels\n",
    "(val_classes, trn_classes, val_labels, trn_labels, \n",
    "    val_filenames, filenames, test_filenames) = get_classes(path)"
   ]
  },
  {
   "cell_type": "code",
   "execution_count": 10,
   "metadata": {
    "collapsed": false
   },
   "outputs": [],
   "source": [
    "from vgg16 import Vgg16\n",
    "#get the vgg model\n",
    "vgg=Vgg16()\n",
    "model=vgg.model"
   ]
  },
  {
   "cell_type": "code",
   "execution_count": 11,
   "metadata": {
    "collapsed": false
   },
   "outputs": [],
   "source": [
    "# find the  conv layers of vgg\n",
    "last_conv_layer_id=[index for index,layer in enumerate(model.layers) if type(layer) is  Convolution2D][-1]\n",
    "vgg_conv_layers=model.layers[:last_conv_layer_id+1]"
   ]
  },
  {
   "cell_type": "code",
   "execution_count": 12,
   "metadata": {
    "collapsed": true
   },
   "outputs": [],
   "source": [
    "# create a model from the vgg conv layers\n",
    "conv_model=Sequential(vgg_conv_layers)"
   ]
  },
  {
   "cell_type": "code",
   "execution_count": null,
   "metadata": {
    "collapsed": false
   },
   "outputs": [],
   "source": [
    "conv_model.summary()"
   ]
  },
  {
   "cell_type": "code",
   "execution_count": null,
   "metadata": {
    "collapsed": false
   },
   "outputs": [],
   "source": [
    "# get numpy array of conv feature predictions for training data\n",
    "conv_vgg_features=conv_model.predict_generator(batches,batches.nb_sample)"
   ]
  },
  {
   "cell_type": "code",
   "execution_count": null,
   "metadata": {
    "collapsed": false
   },
   "outputs": [],
   "source": [
    "# get numpy array of conv feature predictions for val  data  \n",
    "conv_val_vgg_features=conv_model.predict_generator(val_batches,val_batches.nb_sample)"
   ]
  },
  {
   "cell_type": "code",
   "execution_count": null,
   "metadata": {
    "collapsed": false
   },
   "outputs": [],
   "source": [
    "# get vgg features for test set\n",
    "conv_test_vgg_features = conv_model.predict_generator(test_batches, test_batches.nb_sample)"
   ]
  },
  {
   "cell_type": "code",
   "execution_count": 15,
   "metadata": {
    "collapsed": false
   },
   "outputs": [
    {
     "data": {
      "text/plain": [
       "(79726, 512, 14, 14)"
      ]
     },
     "execution_count": 15,
     "metadata": {},
     "output_type": "execute_result"
    }
   ],
   "source": [
    "conv_test_vgg_features.shape"
   ]
  },
  {
   "cell_type": "code",
   "execution_count": null,
   "metadata": {
    "collapsed": false
   },
   "outputs": [],
   "source": [
    "#save to array\n",
    "save_array(path+'results/conv_val_vgg_features.dat', conv_val_vgg_features)\n",
    "save_array(path+'results/conv_vgg_feat.dat', conv_vgg_features)"
   ]
  },
  {
   "cell_type": "code",
   "execution_count": null,
   "metadata": {
    "collapsed": true
   },
   "outputs": [],
   "source": [
    "save_array(path+'results/conv_test_vgg_feat.dat', conv_test_vgg_features)"
   ]
  },
  {
   "cell_type": "code",
   "execution_count": 13,
   "metadata": {
    "collapsed": false
   },
   "outputs": [
    {
     "data": {
      "text/plain": [
       "(4415, 512, 14, 14)"
      ]
     },
     "execution_count": 13,
     "metadata": {},
     "output_type": "execute_result"
    }
   ],
   "source": [
    "# load array\n",
    "conv_vgg_features = load_array(path+'results/conv_vgg_feat.dat')\n",
    "conv_val_vgg_features = load_array(path+'results/conv_val_vgg_features.dat')\n",
    "conv_val_vgg_features.shape"
   ]
  },
  {
   "cell_type": "code",
   "execution_count": 14,
   "metadata": {
    "collapsed": false
   },
   "outputs": [],
   "source": [
    "conv_test_vgg_features = load_array(path+'results/conv_test_vgg_feat.dat')"
   ]
  },
  {
   "cell_type": "markdown",
   "metadata": {},
   "source": [
    "#### define function to return dense layers with batch norm and dropout"
   ]
  },
  {
   "cell_type": "code",
   "execution_count": 16,
   "metadata": {
    "collapsed": true
   },
   "outputs": [],
   "source": [
    "def get_bn_layers(p):\n",
    "    return [\n",
    "        MaxPooling2D(input_shape=vgg_conv_layers[-1].output_shape[1:]),\n",
    "        Flatten(),\n",
    "        Dropout(p/2),\n",
    "        Dense(128, activation='relu'),\n",
    "        BatchNormalization(),\n",
    "        Dropout(p),\n",
    "        Dense(10, activation='softmax')\n",
    "        ]"
   ]
  },
  {
   "cell_type": "code",
   "execution_count": 17,
   "metadata": {
    "collapsed": false
   },
   "outputs": [
    {
     "name": "stdout",
     "output_type": "stream",
     "text": [
      "Train on 18009 samples, validate on 4415 samples\n",
      "Epoch 1/1\n",
      "18009/18009 [==============================] - 6s - loss: 0.5525 - acc: 0.8361 - val_loss: 0.8935 - val_acc: 0.7185\n"
     ]
    },
    {
     "data": {
      "text/plain": [
       "<keras.callbacks.History at 0x7f944c14ddd0>"
      ]
     },
     "execution_count": 17,
     "metadata": {},
     "output_type": "execute_result"
    }
   ],
   "source": [
    "bn_model=Sequential(get_bn_layers(.5))\n",
    "bn_model.compile(Adam(lr=.0001),loss='categorical_crossentropy',metrics=['accuracy'])\n",
    "bn_model.fit(conv_vgg_features, trn_labels, batch_size=batch_size, nb_epoch=1, \n",
    "             validation_data=(conv_val_vgg_features, val_labels))"
   ]
  },
  {
   "cell_type": "code",
   "execution_count": 18,
   "metadata": {
    "collapsed": false
   },
   "outputs": [
    {
     "name": "stdout",
     "output_type": "stream",
     "text": [
      "Train on 18009 samples, validate on 4415 samples\n",
      "Epoch 1/4\n",
      "18009/18009 [==============================] - 6s - loss: 0.0699 - acc: 0.9851 - val_loss: 0.7875 - val_acc: 0.7669\n",
      "Epoch 2/4\n",
      "18009/18009 [==============================] - 6s - loss: 0.0359 - acc: 0.9940 - val_loss: 0.7708 - val_acc: 0.7687\n",
      "Epoch 3/4\n",
      "18009/18009 [==============================] - 6s - loss: 0.0204 - acc: 0.9972 - val_loss: 0.7853 - val_acc: 0.7798\n",
      "Epoch 4/4\n",
      "18009/18009 [==============================] - 6s - loss: 0.0162 - acc: 0.9973 - val_loss: 0.8286 - val_acc: 0.7683\n"
     ]
    },
    {
     "data": {
      "text/plain": [
       "<keras.callbacks.History at 0x7f9452af4850>"
      ]
     },
     "execution_count": 18,
     "metadata": {},
     "output_type": "execute_result"
    }
   ],
   "source": [
    "bn_model.optimizer.lr=0.001\n",
    "bn_model.fit(conv_vgg_features, trn_labels, batch_size=batch_size, nb_epoch=4, \n",
    "             validation_data=(conv_val_vgg_features, val_labels))"
   ]
  },
  {
   "cell_type": "code",
   "execution_count": 19,
   "metadata": {
    "collapsed": false
   },
   "outputs": [
    {
     "name": "stdout",
     "output_type": "stream",
     "text": [
      "Train on 18009 samples, validate on 4415 samples\n",
      "Epoch 1/8\n",
      "18009/18009 [==============================] - 6s - loss: 0.0106 - acc: 0.9986 - val_loss: 0.7802 - val_acc: 0.7735\n",
      "Epoch 2/8\n",
      "18009/18009 [==============================] - 6s - loss: 0.0079 - acc: 0.9994 - val_loss: 0.8513 - val_acc: 0.7651\n",
      "Epoch 3/8\n",
      "18009/18009 [==============================] - 6s - loss: 0.0069 - acc: 0.9992 - val_loss: 0.8483 - val_acc: 0.7613\n",
      "Epoch 4/8\n",
      "18009/18009 [==============================] - 6s - loss: 0.0049 - acc: 0.9997 - val_loss: 0.8434 - val_acc: 0.7706\n",
      "Epoch 5/8\n",
      "18009/18009 [==============================] - 6s - loss: 0.0040 - acc: 0.9997 - val_loss: 0.8565 - val_acc: 0.7672\n",
      "Epoch 6/8\n",
      "18009/18009 [==============================] - 6s - loss: 0.0038 - acc: 0.9997 - val_loss: 0.8435 - val_acc: 0.7803\n",
      "Epoch 7/8\n",
      "18009/18009 [==============================] - 6s - loss: 0.0034 - acc: 0.9998 - val_loss: 0.8999 - val_acc: 0.7583\n",
      "Epoch 8/8\n",
      "18009/18009 [==============================] - 6s - loss: 0.0037 - acc: 0.9997 - val_loss: 0.7936 - val_acc: 0.7875\n"
     ]
    },
    {
     "data": {
      "text/plain": [
       "<keras.callbacks.History at 0x7f9452af4810>"
      ]
     },
     "execution_count": 19,
     "metadata": {},
     "output_type": "execute_result"
    }
   ],
   "source": [
    "bn_model.optimizer.lr=0.00001\n",
    "bn_model.fit(conv_vgg_features, trn_labels, batch_size=batch_size, nb_epoch=8, \n",
    "             validation_data=(conv_val_vgg_features, val_labels))"
   ]
  },
  {
   "cell_type": "markdown",
   "metadata": {},
   "source": [
    "#### Since we are overfitting the training set rapidly, increasing the dropout"
   ]
  },
  {
   "cell_type": "code",
   "execution_count": 22,
   "metadata": {
    "collapsed": false
   },
   "outputs": [
    {
     "name": "stdout",
     "output_type": "stream",
     "text": [
      "Train on 18009 samples, validate on 4415 samples\n",
      "Epoch 1/6\n",
      "18009/18009 [==============================] - 6s - loss: 2.6923 - acc: 0.2666 - val_loss: 1.5638 - val_acc: 0.4847\n",
      "Epoch 2/6\n",
      "18009/18009 [==============================] - 6s - loss: 1.3049 - acc: 0.5805 - val_loss: 1.1813 - val_acc: 0.6371\n",
      "Epoch 3/6\n",
      "18009/18009 [==============================] - 6s - loss: 0.7696 - acc: 0.7472 - val_loss: 1.0145 - val_acc: 0.6954\n",
      "Epoch 4/6\n",
      "18009/18009 [==============================] - 6s - loss: 0.5276 - acc: 0.8319 - val_loss: 0.9396 - val_acc: 0.7198\n",
      "Epoch 5/6\n",
      "18009/18009 [==============================] - 6s - loss: 0.3837 - acc: 0.8822 - val_loss: 0.8939 - val_acc: 0.7348\n",
      "Epoch 6/6\n",
      "18009/18009 [==============================] - 6s - loss: 0.2966 - acc: 0.9113 - val_loss: 0.8564 - val_acc: 0.7427\n"
     ]
    },
    {
     "data": {
      "text/plain": [
       "<keras.callbacks.History at 0x7f94499d6750>"
      ]
     },
     "execution_count": 22,
     "metadata": {},
     "output_type": "execute_result"
    }
   ],
   "source": [
    "bn_model=Sequential(get_bn_layers(.6))\n",
    "bn_model.compile(Adam(lr=.00001),loss='categorical_crossentropy',metrics=['accuracy'])\n",
    "bn_model.fit(conv_vgg_features, trn_labels, batch_size=batch_size, nb_epoch=6, \n",
    "             validation_data=(conv_val_vgg_features, val_labels))"
   ]
  },
  {
   "cell_type": "markdown",
   "metadata": {},
   "source": [
    "#### Increasing learning rate to go faster"
   ]
  },
  {
   "cell_type": "code",
   "execution_count": 23,
   "metadata": {
    "collapsed": false
   },
   "outputs": [
    {
     "name": "stdout",
     "output_type": "stream",
     "text": [
      "Train on 18009 samples, validate on 4415 samples\n",
      "Epoch 1/4\n",
      "18009/18009 [==============================] - 6s - loss: 0.2450 - acc: 0.9265 - val_loss: 0.8278 - val_acc: 0.7504\n",
      "Epoch 2/4\n",
      "18009/18009 [==============================] - 6s - loss: 0.2006 - acc: 0.9424 - val_loss: 0.8127 - val_acc: 0.7576\n",
      "Epoch 3/4\n",
      "18009/18009 [==============================] - 6s - loss: 0.1653 - acc: 0.9544 - val_loss: 0.7881 - val_acc: 0.7595\n",
      "Epoch 4/4\n",
      "18009/18009 [==============================] - 6s - loss: 0.1460 - acc: 0.9621 - val_loss: 0.7996 - val_acc: 0.7538\n"
     ]
    },
    {
     "data": {
      "text/plain": [
       "<keras.callbacks.History at 0x7f94497aa110>"
      ]
     },
     "execution_count": 23,
     "metadata": {},
     "output_type": "execute_result"
    }
   ],
   "source": [
    "bn_model.optimizer.lr=0.001\n",
    "bn_model.fit(conv_vgg_features, trn_labels, batch_size=batch_size, nb_epoch=4, \n",
    "             validation_data=(conv_val_vgg_features, val_labels))"
   ]
  },
  {
   "cell_type": "markdown",
   "metadata": {},
   "source": [
    "##### A classification accuracy of 75.38% was achieved"
   ]
  },
  {
   "cell_type": "code",
   "execution_count": 24,
   "metadata": {
    "collapsed": true
   },
   "outputs": [],
   "source": [
    "# test set predictions \n",
    "preds=bn_model.predict(conv_test_vgg_features,batch_size=batch_size*2)\n",
    "clip_preds= np.clip(preds, .0078, .93)"
   ]
  },
  {
   "cell_type": "code",
   "execution_count": 25,
   "metadata": {
    "collapsed": true
   },
   "outputs": [],
   "source": [
    "subm_name = path+'results/subm.gz'"
   ]
  },
  {
   "cell_type": "code",
   "execution_count": 29,
   "metadata": {
    "collapsed": false
   },
   "outputs": [],
   "source": [
    "classes = sorted(batches.class_indices, key=batches.class_indices.get)\n",
    "submission = pd.DataFrame(clip_preds, columns=classes)"
   ]
  },
  {
   "cell_type": "code",
   "execution_count": 30,
   "metadata": {
    "collapsed": false
   },
   "outputs": [
    {
     "data": {
      "text/html": [
       "<div>\n",
       "<table border=\"1\" class=\"dataframe\">\n",
       "  <thead>\n",
       "    <tr style=\"text-align: right;\">\n",
       "      <th></th>\n",
       "      <th>img</th>\n",
       "      <th>c0</th>\n",
       "      <th>c1</th>\n",
       "      <th>c2</th>\n",
       "      <th>c3</th>\n",
       "      <th>c4</th>\n",
       "      <th>c5</th>\n",
       "      <th>c6</th>\n",
       "      <th>c7</th>\n",
       "      <th>c8</th>\n",
       "      <th>c9</th>\n",
       "    </tr>\n",
       "  </thead>\n",
       "  <tbody>\n",
       "    <tr>\n",
       "      <th>0</th>\n",
       "      <td>img_81601.jpg</td>\n",
       "      <td>0.130433</td>\n",
       "      <td>0.022666</td>\n",
       "      <td>0.007800</td>\n",
       "      <td>0.007800</td>\n",
       "      <td>0.013161</td>\n",
       "      <td>0.007800</td>\n",
       "      <td>0.281030</td>\n",
       "      <td>0.089333</td>\n",
       "      <td>0.025723</td>\n",
       "      <td>0.429339</td>\n",
       "    </tr>\n",
       "    <tr>\n",
       "      <th>1</th>\n",
       "      <td>img_14887.jpg</td>\n",
       "      <td>0.772220</td>\n",
       "      <td>0.125298</td>\n",
       "      <td>0.026401</td>\n",
       "      <td>0.035665</td>\n",
       "      <td>0.007800</td>\n",
       "      <td>0.013039</td>\n",
       "      <td>0.007800</td>\n",
       "      <td>0.007800</td>\n",
       "      <td>0.007800</td>\n",
       "      <td>0.012862</td>\n",
       "    </tr>\n",
       "    <tr>\n",
       "      <th>2</th>\n",
       "      <td>img_62885.jpg</td>\n",
       "      <td>0.153780</td>\n",
       "      <td>0.007800</td>\n",
       "      <td>0.011335</td>\n",
       "      <td>0.052795</td>\n",
       "      <td>0.730884</td>\n",
       "      <td>0.007800</td>\n",
       "      <td>0.011708</td>\n",
       "      <td>0.008977</td>\n",
       "      <td>0.017077</td>\n",
       "      <td>0.009495</td>\n",
       "    </tr>\n",
       "    <tr>\n",
       "      <th>3</th>\n",
       "      <td>img_45125.jpg</td>\n",
       "      <td>0.100768</td>\n",
       "      <td>0.038944</td>\n",
       "      <td>0.200454</td>\n",
       "      <td>0.007800</td>\n",
       "      <td>0.036892</td>\n",
       "      <td>0.007800</td>\n",
       "      <td>0.353301</td>\n",
       "      <td>0.057405</td>\n",
       "      <td>0.192221</td>\n",
       "      <td>0.017755</td>\n",
       "    </tr>\n",
       "    <tr>\n",
       "      <th>4</th>\n",
       "      <td>img_22633.jpg</td>\n",
       "      <td>0.093843</td>\n",
       "      <td>0.333974</td>\n",
       "      <td>0.030681</td>\n",
       "      <td>0.007800</td>\n",
       "      <td>0.009634</td>\n",
       "      <td>0.023245</td>\n",
       "      <td>0.007800</td>\n",
       "      <td>0.028647</td>\n",
       "      <td>0.223018</td>\n",
       "      <td>0.247936</td>\n",
       "    </tr>\n",
       "  </tbody>\n",
       "</table>\n",
       "</div>"
      ],
      "text/plain": [
       "             img        c0        c1        c2        c3        c4        c5  \\\n",
       "0  img_81601.jpg  0.130433  0.022666  0.007800  0.007800  0.013161  0.007800   \n",
       "1  img_14887.jpg  0.772220  0.125298  0.026401  0.035665  0.007800  0.013039   \n",
       "2  img_62885.jpg  0.153780  0.007800  0.011335  0.052795  0.730884  0.007800   \n",
       "3  img_45125.jpg  0.100768  0.038944  0.200454  0.007800  0.036892  0.007800   \n",
       "4  img_22633.jpg  0.093843  0.333974  0.030681  0.007800  0.009634  0.023245   \n",
       "\n",
       "         c6        c7        c8        c9  \n",
       "0  0.281030  0.089333  0.025723  0.429339  \n",
       "1  0.007800  0.007800  0.007800  0.012862  \n",
       "2  0.011708  0.008977  0.017077  0.009495  \n",
       "3  0.353301  0.057405  0.192221  0.017755  \n",
       "4  0.007800  0.028647  0.223018  0.247936  "
      ]
     },
     "execution_count": 30,
     "metadata": {},
     "output_type": "execute_result"
    }
   ],
   "source": [
    "# add the image column to be the first one \n",
    "submission.insert(0, 'img', [a[12:] for a in test_filenames])\n",
    "submission.head()"
   ]
  },
  {
   "cell_type": "code",
   "execution_count": 31,
   "metadata": {
    "collapsed": false
   },
   "outputs": [
    {
     "data": {
      "text/html": [
       "<a href='/home/ubuntu/nbs/data/state/results/subm.gz' target='_blank'>/home/ubuntu/nbs/data/state/results/subm.gz</a><br>"
      ],
      "text/plain": [
       "/home/ubuntu/nbs/data/state/results/subm.gz"
      ]
     },
     "execution_count": 31,
     "metadata": {},
     "output_type": "execute_result"
    }
   ],
   "source": [
    "submission.to_csv(subm_name, index=False, compression='gzip')\n",
    "FileLink(subm_name)"
   ]
  },
  {
   "cell_type": "code",
   "execution_count": null,
   "metadata": {
    "collapsed": true
   },
   "outputs": [],
   "source": []
  }
 ],
 "metadata": {
  "anaconda-cloud": {},
  "kernelspec": {
   "display_name": "Python [conda root]",
   "language": "python",
   "name": "conda-root-py"
  },
  "language_info": {
   "codemirror_mode": {
    "name": "ipython",
    "version": 2
   },
   "file_extension": ".py",
   "mimetype": "text/x-python",
   "name": "python",
   "nbconvert_exporter": "python",
   "pygments_lexer": "ipython2",
   "version": "2.7.12"
  }
 },
 "nbformat": 4,
 "nbformat_minor": 1
}
